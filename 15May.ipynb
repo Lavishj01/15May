{
 "cells": [
  {
   "cell_type": "code",
   "execution_count": 1,
   "id": "ae49981a-f9ef-4caa-aaa0-64524032791a",
   "metadata": {},
   "outputs": [
    {
     "name": "stdout",
     "output_type": "stream",
     "text": [
      "2 1\n"
     ]
    }
   ],
   "source": [
    "a=1\n",
    "b=2\n",
    "a=a+b\n",
    "b=a-b\n",
    "a=a-b\n",
    "print(a,b)"
   ]
  },
  {
   "cell_type": "code",
   "execution_count": 2,
   "id": "9c8f9ebb-7af5-426c-92ba-04ce15087605",
   "metadata": {},
   "outputs": [
    {
     "name": "stdin",
     "output_type": "stream",
     "text": [
      "enter num:  1234\n"
     ]
    },
    {
     "name": "stdout",
     "output_type": "stream",
     "text": [
      "['4', '3', '2', '1']\n"
     ]
    }
   ],
   "source": [
    "num=input(\"enter num: \")\n",
    "list=[]\n",
    "for i in str(num):\n",
    "    list.append(i)\n",
    "print(list[::-1])\n",
    "    "
   ]
  },
  {
   "cell_type": "code",
   "execution_count": 3,
   "id": "85330efb-5f23-48d1-878c-a6f20746326c",
   "metadata": {},
   "outputs": [
    {
     "name": "stdin",
     "output_type": "stream",
     "text": [
      "Enter a number:  1\n",
      "Enter a number:  2\n",
      "Enter a number:  3\n"
     ]
    },
    {
     "name": "stdout",
     "output_type": "stream",
     "text": [
      "Sum of digits:  6\n"
     ]
    }
   ],
   "source": [
    "\n",
    "n1=int(input(\"Enter a number: \"))\n",
    "n2=int(input(\"Enter a number: \"))\n",
    "n3=int(input(\"Enter a number: \"))\n",
    "print(\"Sum of digits: \",n1+n2+n3)\n"
   ]
  },
  {
   "cell_type": "code",
   "execution_count": 4,
   "id": "05f9edd3-0817-43e1-8114-f34637d56fc2",
   "metadata": {},
   "outputs": [
    {
     "name": "stdin",
     "output_type": "stream",
     "text": [
      "Enter a number:  12\n",
      "Enter a number:  123\n",
      "Enter a number:  313\n"
     ]
    },
    {
     "name": "stdout",
     "output_type": "stream",
     "text": [
      "113242\n"
     ]
    }
   ],
   "source": [
    "n1=int(input(\"Enter a number: \"))\n",
    "n2=int(input(\"Enter a number: \"))\n",
    "n3=int(input(\"Enter a number: \"))\n",
    "print(n1*n1+ n2*n2+n3*n3)"
   ]
  },
  {
   "cell_type": "code",
   "execution_count": 5,
   "id": "b079e25e-67b4-4dc5-87be-77cca8d6b8cc",
   "metadata": {},
   "outputs": [
    {
     "name": "stdin",
     "output_type": "stream",
     "text": [
      "enter a number 153\n"
     ]
    },
    {
     "name": "stdout",
     "output_type": "stream",
     "text": [
      "Yes!Armstrong Number\n"
     ]
    }
   ],
   "source": [
    "num=int(input('enter a number'))\n",
    "sum_of_digits=0\n",
    "num_digits=len(str(num))\n",
    "for digit_char in str(num):\n",
    "    digit=int(digit_char)\n",
    "    sum_of_digits+=digit**num_digits\n",
    "if num == sum_of_digits:\n",
    "    print(\"Yes!Armstrong Number\")\n",
    "else:\n",
    "    print(\"NO\")"
   ]
  },
  {
   "cell_type": "code",
   "execution_count": 6,
   "id": "91c61af0-8fba-488a-b91f-ec9fd4a54ab5",
   "metadata": {},
   "outputs": [
    {
     "name": "stdout",
     "output_type": "stream",
     "text": [
      "12.12\n"
     ]
    }
   ],
   "source": [
    "float=12.12121\n",
    "print(f\"{float:.2f}\")"
   ]
  },
  {
   "cell_type": "code",
   "execution_count": 7,
   "id": "c1b0597b-09d9-4f15-91fd-554add3cea33",
   "metadata": {},
   "outputs": [
    {
     "name": "stdin",
     "output_type": "stream",
     "text": [
      "Number:  12\n"
     ]
    },
    {
     "name": "stdout",
     "output_type": "stream",
     "text": [
      "[1, 2, 3, 4, 6]\n"
     ]
    }
   ],
   "source": [
    "num=int(input(\"Number: \"))\n",
    "list=[]\n",
    "for i in range(1,num):\n",
    "    if(num%i==0):\n",
    "        list.append(i)\n",
    "print(list)"
   ]
  },
  {
   "cell_type": "code",
   "execution_count": 10,
   "id": "62b561df-19bc-46b6-8c51-7c639b170879",
   "metadata": {},
   "outputs": [
    {
     "name": "stdin",
     "output_type": "stream",
     "text": [
      "Enter Radius:  12\n",
      "Enter heigth:  2\n"
     ]
    },
    {
     "name": "stdout",
     "output_type": "stream",
     "text": [
      "Volume:  904.32\n"
     ]
    }
   ],
   "source": [
    "\n",
    "r=int(input(\"Enter Radius: \"))\n",
    "h=int(input(\"Enter heigth: \"))\n",
    "print(\"Volume: \",3.14*r**2*h)\n",
    "\n"
   ]
  },
  {
   "cell_type": "code",
   "execution_count": null,
   "id": "a25bf6f0-e338-4f5a-b6a1-a279c48593e4",
   "metadata": {},
   "outputs": [],
   "source": []
  }
 ],
 "metadata": {
  "kernelspec": {
   "display_name": "Python 3 (ipykernel)",
   "language": "python",
   "name": "python3"
  },
  "language_info": {
   "codemirror_mode": {
    "name": "ipython",
    "version": 3
   },
   "file_extension": ".py",
   "mimetype": "text/x-python",
   "name": "python",
   "nbconvert_exporter": "python",
   "pygments_lexer": "ipython3",
   "version": "3.10.4"
  }
 },
 "nbformat": 4,
 "nbformat_minor": 5
}
